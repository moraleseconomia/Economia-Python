{
 "cells": [
  {
   "cell_type": "code",
   "execution_count": 4,
   "metadata": {
    "collapsed": false
   },
   "outputs": [
    {
     "data": {
      "text/plain": [
       "'29.0136'"
      ]
     },
     "execution_count": 4,
     "metadata": {},
     "output_type": "execute_result"
    }
   ],
   "source": [
    "##Procredit\n",
    "from lxml import html\n",
    "import requests\n",
    "page = requests.get('https://www.procredit.com.ni/Pages/BancaPersonas/ServiciosFinancieros/MesaCambio.aspx')\n",
    "tree = html.fromstring(page.text)\n",
    "tree.xpath('//span/text()')\n",
    "tree.xpath('//span/text()')\n",
    "row = tree.xpath('//span/text()')\n",
    "\n",
    "row[8]\n",
    "row[10]\n",
    "row[12]\n"
   ]
  },
  {
   "cell_type": "code",
   "execution_count": 3,
   "metadata": {
    "collapsed": false
   },
   "outputs": [
    {
     "data": {
      "text/plain": [
       "'28.8700'"
      ]
     },
     "execution_count": 3,
     "metadata": {},
     "output_type": "execute_result"
    }
   ],
   "source": [
    "row[8]"
   ]
  },
  {
   "cell_type": "code",
   "execution_count": 9,
   "metadata": {
    "collapsed": true
   },
   "outputs": [],
   "source": [
    "##Banpro\n",
    "from lxml import html\n",
    "import requests\n",
    "page1 = requests.get('https://www.banpro.com.ni/banproenlinea/ad_olvidoclave.asp?SourcePage=')\n",
    "tree1 = html.fromstring(page1.text)\n"
   ]
  },
  {
   "cell_type": "code",
   "execution_count": 11,
   "metadata": {
    "collapsed": false
   },
   "outputs": [
    {
     "data": {
      "text/plain": [
       "[u'\\xa0Tipo Cambio Ventanilla\\xa0', u'\\xa028.9100\\xa0\\xa0\\xa0', u'\\xa029.3900']"
      ]
     },
     "execution_count": 11,
     "metadata": {},
     "output_type": "execute_result"
    }
   ],
   "source": [
    "tree1.xpath('//span/text()')\n"
   ]
  },
  {
   "cell_type": "code",
   "execution_count": 12,
   "metadata": {
    "collapsed": true
   },
   "outputs": [],
   "source": [
    "row1 = tree1.xpath('//span/text()')"
   ]
  },
  {
   "cell_type": "code",
   "execution_count": 25,
   "metadata": {
    "collapsed": false
   },
   "outputs": [
    {
     "data": {
      "text/plain": [
       "u'28.9100'"
      ]
     },
     "execution_count": 25,
     "metadata": {},
     "output_type": "execute_result"
    }
   ],
   "source": [
    "row1[1][1:8]"
   ]
  },
  {
   "cell_type": "code",
   "execution_count": 26,
   "metadata": {
    "collapsed": false
   },
   "outputs": [
    {
     "data": {
      "text/plain": [
       "u'29.3900'"
      ]
     },
     "execution_count": 26,
     "metadata": {},
     "output_type": "execute_result"
    }
   ],
   "source": [
    "row1[2][1:8]"
   ]
  },
  {
   "cell_type": "code",
   "execution_count": 10,
   "metadata": {
    "collapsed": true
   },
   "outputs": [],
   "source": [
    "##Lafise\n",
    "from lxml import html\n",
    "import requests\n",
    "page2 = requests.get('https://www.lafise.com/blb/')\n",
    "tree2 = html.fromstring(page2.text)"
   ]
  },
  {
   "cell_type": "code",
   "execution_count": 11,
   "metadata": {
    "collapsed": false
   },
   "outputs": [
    {
     "data": {
      "text/plain": [
       "['\\r\\n    \\r\\n    \\r\\n    ',\n",
       " '\\r\\n        ',\n",
       " '\\r\\n        ',\n",
       " '\\r\\n    ',\n",
       " '\\r\\n    ',\n",
       " '\\r\\n',\n",
       " u'LAFISE M\\xf3vil',\n",
       " 'LAFISE Plus',\n",
       " 'MONIBYTE',\n",
       " 'Tasas de Cambio',\n",
       " u'Suscripci\\xf3n a boletines',\n",
       " 'Suscripcion Boletin',\n",
       " u'\\xd7',\n",
       " 'Acerca de LAFISE',\n",
       " 'Monibyte']"
      ]
     },
     "execution_count": 11,
     "metadata": {},
     "output_type": "execute_result"
    }
   ],
   "source": [
    "tree2.xpath('//span/text()')"
   ]
  },
  {
   "cell_type": "code",
   "execution_count": 53,
   "metadata": {
    "collapsed": false
   },
   "outputs": [
    {
     "data": {
      "text/plain": [
       "<Element html at 0x4800688>"
      ]
     },
     "execution_count": 53,
     "metadata": {},
     "output_type": "execute_result"
    }
   ],
   "source": [
    "tree2"
   ]
  },
  {
   "cell_type": "code",
   "execution_count": 31,
   "metadata": {
    "collapsed": false
   },
   "outputs": [],
   "source": [
    "##Lafise\n",
    "from lxml import html\n",
    "import requests\n",
    "headers = {'User-agent': 'Mozilla/5.0'}\n",
    "page2 = requests.get('https://www.lafise.com/blb/',headers=headers)\n",
    "soup = BeautifulSoup(page2.content) "
   ]
  },
  {
   "cell_type": "code",
   "execution_count": 53,
   "metadata": {
    "collapsed": false
   },
   "outputs": [
    {
     "data": {
      "text/plain": [
       "<a href=\"https://www.lafise.com/blb/register?returnurl=https%3a%2f%2fwww.lafise.com%2fblb%2f\" id=\"dnn_userLogin_registerLink\">Register</a>"
      ]
     },
     "execution_count": 53,
     "metadata": {},
     "output_type": "execute_result"
    }
   ],
   "source": [
    "soup.find('a')"
   ]
  },
  {
   "cell_type": "code",
   "execution_count": null,
   "metadata": {
    "collapsed": true
   },
   "outputs": [],
   "source": []
  },
  {
   "cell_type": "code",
   "execution_count": null,
   "metadata": {
    "collapsed": true
   },
   "outputs": [],
   "source": []
  },
  {
   "cell_type": "code",
   "execution_count": null,
   "metadata": {
    "collapsed": true
   },
   "outputs": [],
   "source": []
  },
  {
   "cell_type": "code",
   "execution_count": null,
   "metadata": {
    "collapsed": true
   },
   "outputs": [],
   "source": []
  },
  {
   "cell_type": "code",
   "execution_count": null,
   "metadata": {
    "collapsed": true
   },
   "outputs": [],
   "source": []
  },
  {
   "cell_type": "code",
   "execution_count": null,
   "metadata": {
    "collapsed": true
   },
   "outputs": [],
   "source": []
  },
  {
   "cell_type": "code",
   "execution_count": null,
   "metadata": {
    "collapsed": true
   },
   "outputs": [],
   "source": []
  },
  {
   "cell_type": "code",
   "execution_count": 7,
   "metadata": {
    "collapsed": false
   },
   "outputs": [],
   "source": [
    "def _get_soup_object(url, parser=\"html.parser\"):\n",
    "    return BeautifulSoup(requests.get(url).text, parser)"
   ]
  },
  {
   "cell_type": "code",
   "execution_count": 24,
   "metadata": {
    "collapsed": false
   },
   "outputs": [
    {
     "ename": "TypeError",
     "evalue": "urlopen() got an unexpected keyword argument 'headers'",
     "output_type": "error",
     "traceback": [
      "\u001b[1;31m---------------------------------------------------------------------------\u001b[0m",
      "\u001b[1;31mTypeError\u001b[0m                                 Traceback (most recent call last)",
      "\u001b[1;32m<ipython-input-24-505f0935e02f>\u001b[0m in \u001b[0;36m<module>\u001b[1;34m()\u001b[0m\n\u001b[0;32m      2\u001b[0m \u001b[1;32mimport\u001b[0m \u001b[0murllib\u001b[0m\u001b[1;33m\u001b[0m\u001b[0m\n\u001b[0;32m      3\u001b[0m \u001b[0mheaders\u001b[0m \u001b[1;33m=\u001b[0m \u001b[1;33m{\u001b[0m\u001b[1;34m'User-agent'\u001b[0m\u001b[1;33m:\u001b[0m \u001b[1;34m'Mozilla/5.0'\u001b[0m\u001b[1;33m}\u001b[0m\u001b[1;33m\u001b[0m\u001b[0m\n\u001b[1;32m----> 4\u001b[1;33m \u001b[0mr\u001b[0m \u001b[1;33m=\u001b[0m \u001b[0murllib\u001b[0m\u001b[1;33m.\u001b[0m\u001b[0murlopen\u001b[0m\u001b[1;33m(\u001b[0m\u001b[1;34m'https://www.lafise.com/blb/'\u001b[0m\u001b[1;33m,\u001b[0m \u001b[0mheaders\u001b[0m\u001b[1;33m=\u001b[0m\u001b[0mheaders\u001b[0m\u001b[1;33m)\u001b[0m\u001b[1;33m\u001b[0m\u001b[0m\n\u001b[0m\u001b[0;32m      5\u001b[0m \u001b[0msoup\u001b[0m \u001b[1;33m=\u001b[0m \u001b[0mBeautifulSoup\u001b[0m\u001b[1;33m(\u001b[0m\u001b[0mr\u001b[0m\u001b[1;33m,\u001b[0m \u001b[1;34m'html.parser'\u001b[0m\u001b[1;33m)\u001b[0m\u001b[1;33m\u001b[0m\u001b[0m\n\u001b[0;32m      6\u001b[0m \u001b[1;32mprint\u001b[0m \u001b[0mtype\u001b[0m\u001b[1;33m(\u001b[0m\u001b[0msoup\u001b[0m\u001b[1;33m)\u001b[0m\u001b[1;33m\u001b[0m\u001b[0m\n",
      "\u001b[1;31mTypeError\u001b[0m: urlopen() got an unexpected keyword argument 'headers'"
     ]
    }
   ],
   "source": [
    "from bs4 import BeautifulSoup\n",
    "import urllib\n",
    "headers = {'User-agent': 'Mozilla/5.0'}\n",
    "r = urllib.urlopen('https://www.lafise.com/blb/', headers=headers)\n",
    "soup = BeautifulSoup(r, 'html.parser')\n",
    "print type(soup)\n",
    "print soup.prettify()[0:1000]"
   ]
  },
  {
   "cell_type": "code",
   "execution_count": null,
   "metadata": {
    "collapsed": true
   },
   "outputs": [],
   "source": []
  },
  {
   "cell_type": "code",
   "execution_count": 9,
   "metadata": {
    "collapsed": false
   },
   "outputs": [
    {
     "data": {
      "text/plain": [
       "['Register',\n",
       " 'Login',\n",
       " 'facebook',\n",
       " 'twitter',\n",
       " 'youtube',\n",
       " 'LinkedIn',\n",
       " 'Preguntas frecuentes',\n",
       " u'Cont\\xe1ctanos',\n",
       " u'Encu\\xe9ntranos',\n",
       " 'BancaNet',\n",
       " 'Nicaragua',\n",
       " 'Regional',\n",
       " u'Men\\xfa',\n",
       " 'Banca personal',\n",
       " 'Cuentas de ahorro',\n",
       " 'Cuenta corriente',\n",
       " u'Pr\\xe9stamos',\n",
       " u'Pr\\xe9stamos personales',\n",
       " u'Pr\\xe9stamos de veh\\xedculos',\n",
       " u'Solicitud pr\\xe9stamos de veh\\xcdculos',\n",
       " 'Calculadora',\n",
       " u'Pr\\xe9stamos de vivienda',\n",
       " u'Solicitud pr\\xe9stamos vivienda',\n",
       " u'Pr\\xe9stamos educativo',\n",
       " 'Tarjetas',\n",
       " 'Beneficios',\n",
       " 'Puntos LAFISE',\n",
       " 'LAFISE Plus',\n",
       " 'Extrafinanciamientos',\n",
       " 'Plan de Compras en Cuotas',\n",
       " u'Tasa 0 (0% inter\\xe9s)',\n",
       " u'Tarjetas cr\\xe9dito',\n",
       " 'Tarjeta Infinite Visa',\n",
       " 'Tarjeta Signature Visa',\n",
       " 'Tarjeta Platinum Visa',\n",
       " 'Tarjeta Dorada Visa',\n",
       " u'Tarjeta Cl\\xe1sica Visa',\n",
       " u'Tarjeta Fundaci\\xf3n Zamora Teran Visa',\n",
       " 'Tarjeta DTodo Visa',\n",
       " 'Tarjeta Business Visa',\n",
       " 'Tarjeta Platinum  Mastercard',\n",
       " 'Tarjeta Dorada Mastercard',\n",
       " u'Tarjeta Cl\\xe1sica Mastercard',\n",
       " u'Solicitud Tarjeta Cr\\xe9dito',\n",
       " u'Tarjetas d\\xe9bito',\n",
       " u'Solicitud tarjeta d\\xe9bito',\n",
       " 'Tarjetas prepago',\n",
       " 'Tarjeta Nomina Visa',\n",
       " 'Tarjeta Joven Visa',\n",
       " 'Servicios',\n",
       " 'Estado de cuenta por E-mail',\n",
       " 'Consultas, retiros y pagos de tarjeta',\n",
       " 'Telepagos 1800-8472',\n",
       " u'Gestiones en l\\xednea',\n",
       " 'Seguros al viajar',\n",
       " 'Seguros PRF, vida y asistencia',\n",
       " 'Contratos y reglamentos',\n",
       " 'Servicios bancarios',\n",
       " 'Canales Alternos',\n",
       " 'Banc@Net',\n",
       " 'Red ATM',\n",
       " u'Env\\xedo Veloz',\n",
       " u'Transferencias interbancarias v\\xeda ACH',\n",
       " u'LAFISE M\\xf3vil',\n",
       " 'Pag@Net',\n",
       " 'LAFISEid',\n",
       " 'ServiRED',\n",
       " 'Transferencias',\n",
       " u'Gu\\xeda de C\\xe1lculo de Inter\\xe9s y Mantenimiento de Valor',\n",
       " 'Banca corporativa',\n",
       " 'Cuentas',\n",
       " 'Financiamiento',\n",
       " 'Monibyte',\n",
       " 'Custodia y transporte de valores',\n",
       " u'Inversi\\xf3n',\n",
       " 'Pagos',\n",
       " 'Servicios fiduciarios',\n",
       " 'Servicios internacionales',\n",
       " 'Canales Alternos',\n",
       " u'Servicio de afiliaci\\xf3n a POS',\n",
       " u'ECOCr\\xe9ditos',\n",
       " 'Banca empresarial',\n",
       " 'Cuentas',\n",
       " 'Financiamiento',\n",
       " 'Monibyte',\n",
       " u'Inversi\\xf3n',\n",
       " 'Pagos',\n",
       " 'Servicios fiduciarios',\n",
       " 'Servicios internacionales',\n",
       " u'Servicio de afiliaci\\xf3n a POS',\n",
       " u'ECOCr\\xe9ditos',\n",
       " 'RSE',\n",
       " '\\r\\n\\t\\t\\t\\t\\t\\t\\t',\n",
       " '\\r\\n\\t\\t\\t\\t\\t\\t',\n",
       " '\\r\\n\\t\\t\\t\\t\\t\\t\\t',\n",
       " '\\r\\n\\t\\t\\t\\t\\t\\t',\n",
       " '\\r\\n\\t\\t\\t\\t\\t\\t\\t',\n",
       " '\\r\\n\\t\\t\\t\\t\\t\\t',\n",
       " '\\r\\n\\t\\t\\t\\t\\t\\t\\t',\n",
       " '\\r\\n\\t\\t\\t\\t\\t\\t',\n",
       " '\\r\\n\\t\\t\\t\\t\\t\\t\\t',\n",
       " '\\r\\n\\t\\t\\t\\t\\t\\t',\n",
       " '\\r\\n\\t\\t\\t\\t\\t\\t\\t',\n",
       " '\\r\\n\\t\\t\\t\\t\\t\\t',\n",
       " '\\r\\n\\t\\t\\t\\t\\t\\t\\t',\n",
       " '\\r\\n\\t\\t\\t\\t\\t\\t',\n",
       " '\\r\\n\\t\\t\\t\\t\\t\\t\\t',\n",
       " '\\r\\n\\t\\t\\t\\t\\t\\t',\n",
       " u'Tarjetas de cr\\xe9dito',\n",
       " u'Pr\\xe9stamos personales',\n",
       " u'Pr\\xe9stamos hipotecarios',\n",
       " 'Ahorro',\n",
       " u'Inversi\\xf3n',\n",
       " 'Anterior',\n",
       " 'Siguiente',\n",
       " u'Solicitar aqu\\xed',\n",
       " u'Solicitar aqu\\xed',\n",
       " u'Solicitar aqu\\xed',\n",
       " u'Solicitar aqu\\xed',\n",
       " u'Ver m\\xe1s',\n",
       " 'Banca Persona',\n",
       " 'Banca Corporativa',\n",
       " 'Banca Empresarial',\n",
       " u'Canales Electr\\xf3nicos',\n",
       " u'Ver m\\xe1s',\n",
       " u'Ver m\\xe1s',\n",
       " u'Ver m\\xe1s',\n",
       " '\\r\\n            \\t',\n",
       " '\\r\\n            ',\n",
       " u'FUNDACI\\xd3N TELET\\xd3N ENTREGA RECONOCIMIENTOS A GRUPO LAFISE Y COLABORADORES',\n",
       " u'Ver m\\xe1s',\n",
       " '\\r\\n            \\t',\n",
       " '\\r\\n            ',\n",
       " u'CON MODERNA SUCURSAL EN GALER\\xcdA SANTO DOMINGO',\n",
       " u'Ver m\\xe1s',\n",
       " '\\r\\n            \\t',\n",
       " '\\r\\n            ',\n",
       " 'ASESORANDO SIEMPRE A SUS CLIENTES',\n",
       " u'Ver m\\xe1s',\n",
       " u'Ver m\\xe1s noticias',\n",
       " 'Nuestros valores',\n",
       " 'Junta directiva y mensaje de nuestro presidente',\n",
       " 'Principales ejecutivos',\n",
       " 'Responsabilidad social empresarial',\n",
       " 'Estados financieros',\n",
       " 'Trabaja con nosotros',\n",
       " 'Monibyte',\n",
       " u'T\\xe9rminos y condiciones',\n",
       " 'Quejas y sugerencias']"
      ]
     },
     "execution_count": 9,
     "metadata": {},
     "output_type": "execute_result"
    }
   ],
   "source": [
    "tree2.xpath('//a/text()')"
   ]
  },
  {
   "cell_type": "code",
   "execution_count": null,
   "metadata": {
    "collapsed": true
   },
   "outputs": [],
   "source": []
  },
  {
   "cell_type": "code",
   "execution_count": null,
   "metadata": {
    "collapsed": true
   },
   "outputs": [],
   "source": []
  }
 ],
 "metadata": {
  "kernelspec": {
   "display_name": "Python 2",
   "language": "python",
   "name": "python2"
  },
  "language_info": {
   "codemirror_mode": {
    "name": "ipython",
    "version": 2
   },
   "file_extension": ".py",
   "mimetype": "text/x-python",
   "name": "python",
   "nbconvert_exporter": "python",
   "pygments_lexer": "ipython2",
   "version": "2.7.11"
  }
 },
 "nbformat": 4,
 "nbformat_minor": 0
}
