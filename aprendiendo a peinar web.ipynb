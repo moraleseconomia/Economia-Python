{
 "cells": [
  {
   "cell_type": "code",
   "execution_count": 14,
   "metadata": {
    "collapsed": true
   },
   "outputs": [],
   "source": [
    "from scrapy.selector import Selector"
   ]
  },
  {
   "cell_type": "code",
   "execution_count": 15,
   "metadata": {
    "collapsed": true
   },
   "outputs": [],
   "source": [
    "from scrapy.http import HtmlResponse"
   ]
  },
  {
   "cell_type": "code",
   "execution_count": 17,
   "metadata": {
    "collapsed": true
   },
   "outputs": [],
   "source": [
    "body = '<html><body><span>good</span></body></html>'"
   ]
  },
  {
   "cell_type": "code",
   "execution_count": 18,
   "metadata": {
    "collapsed": false
   },
   "outputs": [
    {
     "data": {
      "text/plain": [
       "[u'good']"
      ]
     },
     "execution_count": 18,
     "metadata": {},
     "output_type": "execute_result"
    }
   ],
   "source": [
    "Selector(text=body).xpath('//span/text()').extract()"
   ]
  },
  {
   "cell_type": "code",
   "execution_count": 19,
   "metadata": {
    "collapsed": false
   },
   "outputs": [],
   "source": [
    "response = HtmlResponse(url='http://webserver2.ineter.gob.ni/geofisica/sis/events/sismos.php', body=body)"
   ]
  },
  {
   "cell_type": "code",
   "execution_count": 20,
   "metadata": {
    "collapsed": false
   },
   "outputs": [
    {
     "data": {
      "text/plain": [
       "[u'good']"
      ]
     },
     "execution_count": 20,
     "metadata": {},
     "output_type": "execute_result"
    }
   ],
   "source": [
    "Selector(response=response).xpath('//span/text()').extract()"
   ]
  },
  {
   "cell_type": "code",
   "execution_count": 48,
   "metadata": {
    "collapsed": true
   },
   "outputs": [],
   "source": [
    "### Desde aquí el código ha sido bueno"
   ]
  },
  {
   "cell_type": "code",
   "execution_count": null,
   "metadata": {
    "collapsed": true
   },
   "outputs": [],
   "source": [
    "scrapy shell luego web http://webserver2.ineter.gob.ni/geofisica/sis/events/sismos.php"
   ]
  },
  {
   "cell_type": "code",
   "execution_count": 21,
   "metadata": {
    "collapsed": false
   },
   "outputs": [
    {
     "data": {
      "text/plain": [
       "[]"
      ]
     },
     "execution_count": 21,
     "metadata": {},
     "output_type": "execute_result"
    }
   ],
   "source": [
    " response.xpath('//pre')   #http://pythonscraping.com/blog/xpath-and-scrapy"
   ]
  },
  {
   "cell_type": "code",
   "execution_count": null,
   "metadata": {
    "collapsed": true
   },
   "outputs": [],
   "source": [
    "response.xpath('//pre[contains(text(), \"N \")]')   #http://www.olafdietsche.de/2015/04/05/extracting-table-data-with-scrapy"
   ]
  },
  {
   "cell_type": "code",
   "execution_count": null,
   "metadata": {
    "collapsed": true
   },
   "outputs": [],
   "source": [
    "response.xpath('//pre/text()')[0].extract()"
   ]
  },
  {
   "cell_type": "code",
   "execution_count": null,
   "metadata": {
    "collapsed": true
   },
   "outputs": [],
   "source": [
    "response.xpath('//pre/text()').extract()"
   ]
  },
  {
   "cell_type": "code",
   "execution_count": 26,
   "metadata": {
    "collapsed": true
   },
   "outputs": [],
   "source": [
    "from scrapy import Item, Field\n",
    "\n",
    "class Article(Item):\n",
    "\n",
    "   title = Field()\n",
    "\n",
    "   links = Field()\n",
    "\n",
    "   lastModified = Field()"
   ]
  },
  {
   "cell_type": "code",
   "execution_count": 46,
   "metadata": {
    "collapsed": false
   },
   "outputs": [],
   "source": [
    "class ArticleSpider(scrapy.Spider):\n",
    "\n",
    "    name=\" \"\n",
    "\n",
    "    allowed_domains = [\"webserver2.ineter.gob.ni\"]\n",
    "\n",
    "    start_urls = [\"http://webserver2.ineter.gob.ni/geofisica/sis/events/sismos.php\"]\n",
    "\n",
    " #   rules = [Rule(SgmlLinkExtractor(allow=('(/wiki/)((?!:).)*$'),), callback=\"parse_item\", follow=True)]\n",
    "\n",
    "def parse(self, response):\n",
    "\n",
    "         for links in response.xpath('//pre/text()').extract():\n",
    "            print url"
   ]
  },
  {
   "cell_type": "code",
   "execution_count": null,
   "metadata": {
    "collapsed": true
   },
   "outputs": [],
   "source": [
    "##############################################################################################################################\n",
    "##############################################################################################################################"
   ]
  },
  {
   "cell_type": "code",
   "execution_count": null,
   "metadata": {
    "collapsed": true
   },
   "outputs": [],
   "source": [
    "##Haciendo web peinado"
   ]
  },
  {
   "cell_type": "code",
   "execution_count": 3,
   "metadata": {
    "collapsed": false
   },
   "outputs": [],
   "source": [
    "from lxml import html\n",
    "import requests\n",
    "page = requests.get('http://webserver2.ineter.gob.ni/geofisica/sis/events/sismos.php')\n",
    "tree = html.fromstring(page.text)"
   ]
  },
  {
   "cell_type": "code",
   "execution_count": 5,
   "metadata": {
    "collapsed": false
   },
   "outputs": [
    {
     "data": {
      "text/plain": [
       "['16/10/09 16:54:53  13.39N  91.80W   15.0   4.0MW  Frente a Guatemala',\n",
       " '16/10/09 10:27:37  12.42N  86.66W    2.1   1.6MW  Cerca del Volcan Cerro Negro',\n",
       " '16/10/08 17:20:34  11.72N  86.23W  133.1   4.0MW  Carazo',\n",
       " '16/10/08 09:39:18  12.44N  86.62W    0.8   2.3MW  Cerca del Volcan Cerro Negro',\n",
       " '16/10/08 05:34:27  12.99N  85.17W    2.2   4.3MW  Nicaragua',\n",
       " '16/10/08 04:44:03  12.34N  86.45W    2.9   3.4MW  Cerca del volcan Momotombo',\n",
       " '16/10/07 22:37:17  11.47N  85.72W  183.6   2.8ML  Rivas',\n",
       " '16/10/07 15:29:48  12.41N  86.62W    8.3   1.7MW  Cerca del volcan Momotombo',\n",
       " u'16/10/07 13:37:15   8.88N  83.79W   10.5   3.2MW  Oceano Pac\\xedfico de Costa Rica',\n",
       " '16/10/07 10:47:45  12.89N  87.04W   13.9   2.3MW  Nicaragua',\n",
       " '16/10/07 01:56:46   9.72N  84.13W   58.4   2.6MW  Costa Rica',\n",
       " '16/10/06 21:29:11  11.47N  87.61W   10.1   3.8MW  Frente a Poneloya',\n",
       " '16/10/06 21:15:25  11.53N  87.55W   15.0   4.2MW  Frente a Poneloya',\n",
       " '16/10/06 19:54:21  12.44N  86.65W    6.6   2.3MW  Cerca del Volcan Cerro Negro',\n",
       " '16/10/06 18:44:27  12.45N  86.64W    2.1   2.5MW  Cerca del Volcan Cerro Negro',\n",
       " '16/10/06 13:29:00  13.31N  89.19W   14.9   3.7MW  Frente a El Salvador',\n",
       " u'16/10/06 12:39:42  12.34N  88.12W   15.8   3.7MW  Frente al Cosig\\xfcina',\n",
       " '16/10/06 12:07:14  12.90N  87.11W    6.7   2.7MW  Cerca de El Sauce, Nicaragua',\n",
       " '16/10/06 11:05:09  12.44N  86.61W    5.7   2.1MW  Cerca del volcan Momotombo',\n",
       " '16/10/06 07:57:34  12.44N  86.60W    4.7   1.8MW  Cerca del volcan Momotombo',\n",
       " '16/10/06 00:39:52  12.89N  87.23W   15.0   3.1MW  Estero Real',\n",
       " '16/10/05 18:57:33  12.42N  86.63W    8.7   1.4ML  Cerca del volcan Momotombo',\n",
       " u'16/10/05 10:51:40   8.98N  84.04W   15.3   3.1ML  Oceano Pac\\xedfico de Costa Rica',\n",
       " '16/10/05 01:54:49  11.32N  85.70W  171.5   3.6ML  Rivas',\n",
       " u'16/10/05 01:25:07  12.61N  87.72W   62.2   4.8ML  Frente al Cosig\\xfcina',\n",
       " '16/10/04 23:19:29  11.38N  86.94W   14.6   3.4ML  Frente a Masachapa',\n",
       " '16/10/04 22:16:00  12.28N  87.53W   44.3   3.5ML  Frente a Corinto',\n",
       " '16/10/04 21:14:33  12.46N  86.64W    7.6   2.6ML  Cerca del Volcan Cerro Negro',\n",
       " '16/10/04 13:46:39  12.47N  86.65W    5.9   1.9MW  Cerca del Volcan Cerro Negro',\n",
       " u'16/10/04 12:33:58   9.20N  84.16W   15.0   2.4MW  Oceano Pac\\xedfico de Costa Rica',\n",
       " '16/10/04 05:14:19  12.48N  86.61W    2.0   1.6MW  Cerca del Volcan Cerro Negro',\n",
       " u'16/10/04 05:08:27   9.37N  84.39W    1.7   3.8MW  Oceano Pac\\xedfico de Costa Rica',\n",
       " '16/10/04 03:30:27  16.45N  85.32W    4.7   3.9MW  Sismo regional o lejano',\n",
       " '16/10/04 03:14:08  12.42N  86.63W    9.0   1.8MW  Cerca del Volcan Cerro Negro',\n",
       " '16/10/03 16:58:31  12.43N  86.61W   10.3   2.3MW  Cerca del volcan Momotombo',\n",
       " '16/10/03 16:19:57  12.46N  86.65W    5.9   1.9MW  Cerca del Volcan Cerro Negro',\n",
       " '16/10/03 15:29:05  12.42N  86.58W    5.8   1.6MW  Cerca del volcan Momotombo',\n",
       " '16/10/03 12:37:08  12.45N  86.61W    6.2   1.2ML  Cerca del Volcan Cerro Negro',\n",
       " '16/10/03 12:33:04  12.44N  86.60W    3.8   1.3ML  Cerca del volcan Momotombo',\n",
       " '16/10/03 09:50:14  12.46N  86.66W    6.4   1.9MW  Cerca del Volcan Cerro Negro',\n",
       " '16/10/03 07:52:58  12.45N  86.61W   10.3   2.0MW  Cerca del Volcan Cerro Negro',\n",
       " '16/10/03 02:59:45  12.42N  86.60W    7.7   1.9ML  Cerca del volcan Momotombo',\n",
       " '16/10/03 02:09:01  12.47N  86.63W    6.3   1.9ML  Cerca del Volcan Cerro Negro',\n",
       " '16/10/03 00:18:34  10.85N  85.04W    0.9   2.8ML  Costa Rica',\n",
       " '16/10/02 23:45:33  12.47N  86.66W    5.2   1.5ML  Cerca del Volcan Cerro Negro',\n",
       " '16/10/02 17:34:59  12.79N  86.98W    0.2   2.5MW  Nicaragua',\n",
       " '16/10/02 15:46:13  12.57N  86.77W    2.8   2.9MW  Cerca del volcan Telica',\n",
       " '16/10/02 15:44:25  12.56N  86.76W    3.2   2.8MW  Cerca del Volcan Cerro Negro',\n",
       " '16/10/02 14:49:46  12.44N  86.64W    4.4   2.7MW  Cerca del Volcan Cerro Negro',\n",
       " '16/10/02 12:44:29  12.41N  86.62W    5.7   1.9MW  Cerca del volcan Momotombo',\n",
       " '16/10/02 12:25:26  12.43N  86.61W    8.5   2.0MW  Cerca del volcan Momotombo',\n",
       " '16/10/02 09:27:32  12.42N  86.62W    8.2   1.9MW  Cerca del volcan Momotombo',\n",
       " '16/10/02 07:38:42  12.42N  86.62W    6.9   1.9MW  Cerca del volcan Momotombo',\n",
       " '16/10/02 07:31:52  11.60N  86.85W   18.4   2.7MW  Frente a Masachapa',\n",
       " '16/10/02 06:35:18  12.43N  86.66W    4.7   1.6MW  Cerca del Volcan Cerro Negro',\n",
       " '16/10/02 06:14:48  12.41N  86.58W    3.3   1.6ML  Cerca del volcan Momotombo',\n",
       " '16/10/02 01:04:06  12.44N  86.60W    2.8   1.6MW  Cerca del volcan Momotombo',\n",
       " '16/10/02 01:03:29  12.43N  86.61W    2.0   1.8MW  Cerca del volcan Momotombo',\n",
       " '16/10/02 00:04:05  12.43N  86.60W    7.7   1.8ML  Cerca del volcan Momotombo',\n",
       " '16/10/01 19:05:46  12.37N  86.53W    3.0   1.3ML  Cerca del volcan Momotombo',\n",
       " '16/10/01 18:32:53  12.45N  86.61W    4.3   2.5MW  Cerca del volcan Momotombo',\n",
       " '16/10/01 18:14:31  12.48N  86.66W    6.2   1.9MW  Cerca del Volcan Cerro Negro',\n",
       " '16/10/01 17:33:53  12.37N  86.53W    3.6   1.4MW  Cerca del volcan Momotombo',\n",
       " '16/10/01 16:33:11   8.38N  83.08W   30.3   3.4MW  Costa Rica',\n",
       " '16/10/01 12:48:57  10.88N  86.69W   15.0   3.5MW  Frente a El Astillero',\n",
       " '16/10/01 12:00:04  12.99N  87.70W  139.1   3.4MW  Golfo de Fonseca',\n",
       " '16/10/01 08:30:38  12.47N  86.68W    6.3   2.0MW  Cerca del Volcan Cerro Negro',\n",
       " '16/10/01 08:28:07  12.47N  86.65W    4.6   2.0MW  Cerca del Volcan Cerro Negro',\n",
       " '16/10/01 06:50:50  13.01N  89.72W    7.1   4.1MW  Frente a El Salvador',\n",
       " '16/10/01 06:24:54  11.55N  86.98W   15.0   4.1MW  Frente a Masachapa',\n",
       " '16/10/01 02:47:51  12.62N  86.72W    4.8   2.5MW  Cerca del Volcan Cerro Negro',\n",
       " '16/10/01 01:16:45  12.41N  86.62W    7.2   2.3MW  Cerca del volcan Momotombo',\n",
       " '16/10/01 00:13:04  13.19N  88.15W   15.0   3.3MW  El Salvador',\n",
       " '16/10/01 00:00:48  12.45N  86.61W    5.2   2.0MW  Cerca del Volcan Cerro Negro',\n",
       " '16/09/30 14:02:47  12.44N  86.60W    2.7   2.5MW  Cerca del volcan Momotombo',\n",
       " '16/09/30 13:18:41  12.48N  86.63W    2.2   1.8ML  Cerca del Volcan Cerro Negro',\n",
       " '16/09/30 08:03:21  12.45N  86.63W    7.2   2.8MW  Cerca del Volcan Cerro Negro',\n",
       " '16/09/30 08:01:59  12.43N  86.65W    2.9   1.5MW  Cerca del Volcan Cerro Negro',\n",
       " '16/09/30 07:19:44  12.44N  86.61W    2.0   1.9MW  Cerca del volcan Momotombo',\n",
       " '16/09/30 03:37:16  12.46N  86.64W    7.6   2.1ML  Cerca del Volcan Cerro Negro',\n",
       " '16/09/30 03:16:34  12.43N  86.62W    6.6   2.1ML  Cerca del volcan Momotombo',\n",
       " '16/09/29 22:11:00  12.47N  86.67W    6.0   1.7ML  Cerca del Volcan Cerro Negro',\n",
       " '16/09/29 21:25:24  12.43N  86.61W    1.7   1.4ML  Cerca del volcan Momotombo',\n",
       " '16/09/29 21:06:00  12.49N  86.63W    1.0   1.4ML  Cerca del Volcan Cerro Negro',\n",
       " '16/09/29 18:36:01  12.44N  86.62W    7.5   2.0MW  Cerca del Volcan Cerro Negro',\n",
       " '16/09/29 18:25:42  12.44N  86.61W    7.5   1.6MW  Cerca del volcan Momotombo',\n",
       " '       ']"
      ]
     },
     "execution_count": 5,
     "metadata": {},
     "output_type": "execute_result"
    }
   ],
   "source": [
    "tree.xpath('//pre/text()')"
   ]
  },
  {
   "cell_type": "code",
   "execution_count": 6,
   "metadata": {
    "collapsed": false
   },
   "outputs": [
    {
     "data": {
      "text/plain": [
       "'16/10/09 16:54:53  13.39N  91.80W   15.0   4.0MW  Frente a Guatemala'"
      ]
     },
     "execution_count": 6,
     "metadata": {},
     "output_type": "execute_result"
    }
   ],
   "source": [
    "tree.xpath('//pre/text()')[0]"
   ]
  },
  {
   "cell_type": "code",
   "execution_count": 12,
   "metadata": {
    "collapsed": false
   },
   "outputs": [
    {
     "ename": "AttributeError",
     "evalue": "'str' object has no attribute 'text'",
     "output_type": "error",
     "traceback": [
      "\u001b[1;31m---------------------------------------------------------------------------\u001b[0m",
      "\u001b[1;31mAttributeError\u001b[0m                            Traceback (most recent call last)",
      "\u001b[1;32m<ipython-input-12-239883304317>\u001b[0m in \u001b[0;36m<module>\u001b[1;34m()\u001b[0m\n\u001b[0;32m      1\u001b[0m \u001b[1;32mfor\u001b[0m \u001b[0mrow\u001b[0m \u001b[1;32min\u001b[0m \u001b[0mtree\u001b[0m\u001b[1;33m.\u001b[0m\u001b[0mxpath\u001b[0m\u001b[1;33m(\u001b[0m\u001b[1;34m'//pre/text()'\u001b[0m\u001b[1;33m)\u001b[0m\u001b[1;33m[\u001b[0m\u001b[1;36m1\u001b[0m\u001b[1;33m:\u001b[0m\u001b[1;33m]\u001b[0m\u001b[1;33m:\u001b[0m\u001b[1;33m\u001b[0m\u001b[0m\n\u001b[1;32m----> 2\u001b[1;33m      \u001b[0mst\u001b[0m \u001b[1;33m=\u001b[0m \u001b[0mrow\u001b[0m\u001b[1;33m[\u001b[0m\u001b[1;36m0\u001b[0m\u001b[1;33m]\u001b[0m\u001b[1;33m[\u001b[0m\u001b[1;36m0\u001b[0m\u001b[1;33m]\u001b[0m\u001b[1;33m.\u001b[0m\u001b[0mtext\u001b[0m\u001b[1;33m\u001b[0m\u001b[0m\n\u001b[0m\u001b[0;32m      3\u001b[0m      \u001b[1;32mprint\u001b[0m \u001b[0mst\u001b[0m\u001b[1;33m\u001b[0m\u001b[0m\n",
      "\u001b[1;31mAttributeError\u001b[0m: 'str' object has no attribute 'text'"
     ]
    }
   ],
   "source": [
    "for row in tree.xpath('//pre/text()')[1:]:\n",
    "     st = row[0][0].text\n",
    "     print st"
   ]
  },
  {
   "cell_type": "code",
   "execution_count": 55,
   "metadata": {
    "collapsed": false
   },
   "outputs": [],
   "source": [
    "row = tree.xpath('//pre/text()')[0:]"
   ]
  },
  {
   "cell_type": "code",
   "execution_count": 56,
   "metadata": {
    "collapsed": false
   },
   "outputs": [
    {
     "data": {
      "text/plain": [
       "['16/10/09 16:54:53  13.39N  91.80W   15.0   4.0MW  Frente a Guatemala',\n",
       " '16/10/09 10:27:37  12.42N  86.66W    2.1   1.6MW  Cerca del Volcan Cerro Negro',\n",
       " '16/10/08 17:20:34  11.72N  86.23W  133.1   4.0MW  Carazo',\n",
       " '16/10/08 09:39:18  12.44N  86.62W    0.8   2.3MW  Cerca del Volcan Cerro Negro',\n",
       " '16/10/08 05:34:27  12.99N  85.17W    2.2   4.3MW  Nicaragua',\n",
       " '16/10/08 04:44:03  12.34N  86.45W    2.9   3.4MW  Cerca del volcan Momotombo',\n",
       " '16/10/07 22:37:17  11.47N  85.72W  183.6   2.8ML  Rivas',\n",
       " '16/10/07 15:29:48  12.41N  86.62W    8.3   1.7MW  Cerca del volcan Momotombo',\n",
       " u'16/10/07 13:37:15   8.88N  83.79W   10.5   3.2MW  Oceano Pac\\xedfico de Costa Rica',\n",
       " '16/10/07 10:47:45  12.89N  87.04W   13.9   2.3MW  Nicaragua',\n",
       " '16/10/07 01:56:46   9.72N  84.13W   58.4   2.6MW  Costa Rica',\n",
       " '16/10/06 21:29:11  11.47N  87.61W   10.1   3.8MW  Frente a Poneloya',\n",
       " '16/10/06 21:15:25  11.53N  87.55W   15.0   4.2MW  Frente a Poneloya',\n",
       " '16/10/06 19:54:21  12.44N  86.65W    6.6   2.3MW  Cerca del Volcan Cerro Negro',\n",
       " '16/10/06 18:44:27  12.45N  86.64W    2.1   2.5MW  Cerca del Volcan Cerro Negro',\n",
       " '16/10/06 13:29:00  13.31N  89.19W   14.9   3.7MW  Frente a El Salvador',\n",
       " u'16/10/06 12:39:42  12.34N  88.12W   15.8   3.7MW  Frente al Cosig\\xfcina',\n",
       " '16/10/06 12:07:14  12.90N  87.11W    6.7   2.7MW  Cerca de El Sauce, Nicaragua',\n",
       " '16/10/06 11:05:09  12.44N  86.61W    5.7   2.1MW  Cerca del volcan Momotombo',\n",
       " '16/10/06 07:57:34  12.44N  86.60W    4.7   1.8MW  Cerca del volcan Momotombo',\n",
       " '16/10/06 00:39:52  12.89N  87.23W   15.0   3.1MW  Estero Real',\n",
       " '16/10/05 18:57:33  12.42N  86.63W    8.7   1.4ML  Cerca del volcan Momotombo',\n",
       " u'16/10/05 10:51:40   8.98N  84.04W   15.3   3.1ML  Oceano Pac\\xedfico de Costa Rica',\n",
       " '16/10/05 01:54:49  11.32N  85.70W  171.5   3.6ML  Rivas',\n",
       " u'16/10/05 01:25:07  12.61N  87.72W   62.2   4.8ML  Frente al Cosig\\xfcina',\n",
       " '16/10/04 23:19:29  11.38N  86.94W   14.6   3.4ML  Frente a Masachapa',\n",
       " '16/10/04 22:16:00  12.28N  87.53W   44.3   3.5ML  Frente a Corinto',\n",
       " '16/10/04 21:14:33  12.46N  86.64W    7.6   2.6ML  Cerca del Volcan Cerro Negro',\n",
       " '16/10/04 13:46:39  12.47N  86.65W    5.9   1.9MW  Cerca del Volcan Cerro Negro',\n",
       " u'16/10/04 12:33:58   9.20N  84.16W   15.0   2.4MW  Oceano Pac\\xedfico de Costa Rica',\n",
       " '16/10/04 05:14:19  12.48N  86.61W    2.0   1.6MW  Cerca del Volcan Cerro Negro',\n",
       " u'16/10/04 05:08:27   9.37N  84.39W    1.7   3.8MW  Oceano Pac\\xedfico de Costa Rica',\n",
       " '16/10/04 03:30:27  16.45N  85.32W    4.7   3.9MW  Sismo regional o lejano',\n",
       " '16/10/04 03:14:08  12.42N  86.63W    9.0   1.8MW  Cerca del Volcan Cerro Negro',\n",
       " '16/10/03 16:58:31  12.43N  86.61W   10.3   2.3MW  Cerca del volcan Momotombo',\n",
       " '16/10/03 16:19:57  12.46N  86.65W    5.9   1.9MW  Cerca del Volcan Cerro Negro',\n",
       " '16/10/03 15:29:05  12.42N  86.58W    5.8   1.6MW  Cerca del volcan Momotombo',\n",
       " '16/10/03 12:37:08  12.45N  86.61W    6.2   1.2ML  Cerca del Volcan Cerro Negro',\n",
       " '16/10/03 12:33:04  12.44N  86.60W    3.8   1.3ML  Cerca del volcan Momotombo',\n",
       " '16/10/03 09:50:14  12.46N  86.66W    6.4   1.9MW  Cerca del Volcan Cerro Negro',\n",
       " '16/10/03 07:52:58  12.45N  86.61W   10.3   2.0MW  Cerca del Volcan Cerro Negro',\n",
       " '16/10/03 02:59:45  12.42N  86.60W    7.7   1.9ML  Cerca del volcan Momotombo',\n",
       " '16/10/03 02:09:01  12.47N  86.63W    6.3   1.9ML  Cerca del Volcan Cerro Negro',\n",
       " '16/10/03 00:18:34  10.85N  85.04W    0.9   2.8ML  Costa Rica',\n",
       " '16/10/02 23:45:33  12.47N  86.66W    5.2   1.5ML  Cerca del Volcan Cerro Negro',\n",
       " '16/10/02 17:34:59  12.79N  86.98W    0.2   2.5MW  Nicaragua',\n",
       " '16/10/02 15:46:13  12.57N  86.77W    2.8   2.9MW  Cerca del volcan Telica',\n",
       " '16/10/02 15:44:25  12.56N  86.76W    3.2   2.8MW  Cerca del Volcan Cerro Negro',\n",
       " '16/10/02 14:49:46  12.44N  86.64W    4.4   2.7MW  Cerca del Volcan Cerro Negro',\n",
       " '16/10/02 12:44:29  12.41N  86.62W    5.7   1.9MW  Cerca del volcan Momotombo',\n",
       " '16/10/02 12:25:26  12.43N  86.61W    8.5   2.0MW  Cerca del volcan Momotombo',\n",
       " '16/10/02 09:27:32  12.42N  86.62W    8.2   1.9MW  Cerca del volcan Momotombo',\n",
       " '16/10/02 07:38:42  12.42N  86.62W    6.9   1.9MW  Cerca del volcan Momotombo',\n",
       " '16/10/02 07:31:52  11.60N  86.85W   18.4   2.7MW  Frente a Masachapa',\n",
       " '16/10/02 06:35:18  12.43N  86.66W    4.7   1.6MW  Cerca del Volcan Cerro Negro',\n",
       " '16/10/02 06:14:48  12.41N  86.58W    3.3   1.6ML  Cerca del volcan Momotombo',\n",
       " '16/10/02 01:04:06  12.44N  86.60W    2.8   1.6MW  Cerca del volcan Momotombo',\n",
       " '16/10/02 01:03:29  12.43N  86.61W    2.0   1.8MW  Cerca del volcan Momotombo',\n",
       " '16/10/02 00:04:05  12.43N  86.60W    7.7   1.8ML  Cerca del volcan Momotombo',\n",
       " '16/10/01 19:05:46  12.37N  86.53W    3.0   1.3ML  Cerca del volcan Momotombo',\n",
       " '16/10/01 18:32:53  12.45N  86.61W    4.3   2.5MW  Cerca del volcan Momotombo',\n",
       " '16/10/01 18:14:31  12.48N  86.66W    6.2   1.9MW  Cerca del Volcan Cerro Negro',\n",
       " '16/10/01 17:33:53  12.37N  86.53W    3.6   1.4MW  Cerca del volcan Momotombo',\n",
       " '16/10/01 16:33:11   8.38N  83.08W   30.3   3.4MW  Costa Rica',\n",
       " '16/10/01 12:48:57  10.88N  86.69W   15.0   3.5MW  Frente a El Astillero',\n",
       " '16/10/01 12:00:04  12.99N  87.70W  139.1   3.4MW  Golfo de Fonseca',\n",
       " '16/10/01 08:30:38  12.47N  86.68W    6.3   2.0MW  Cerca del Volcan Cerro Negro',\n",
       " '16/10/01 08:28:07  12.47N  86.65W    4.6   2.0MW  Cerca del Volcan Cerro Negro',\n",
       " '16/10/01 06:50:50  13.01N  89.72W    7.1   4.1MW  Frente a El Salvador',\n",
       " '16/10/01 06:24:54  11.55N  86.98W   15.0   4.1MW  Frente a Masachapa',\n",
       " '16/10/01 02:47:51  12.62N  86.72W    4.8   2.5MW  Cerca del Volcan Cerro Negro',\n",
       " '16/10/01 01:16:45  12.41N  86.62W    7.2   2.3MW  Cerca del volcan Momotombo',\n",
       " '16/10/01 00:13:04  13.19N  88.15W   15.0   3.3MW  El Salvador',\n",
       " '16/10/01 00:00:48  12.45N  86.61W    5.2   2.0MW  Cerca del Volcan Cerro Negro',\n",
       " '16/09/30 14:02:47  12.44N  86.60W    2.7   2.5MW  Cerca del volcan Momotombo',\n",
       " '16/09/30 13:18:41  12.48N  86.63W    2.2   1.8ML  Cerca del Volcan Cerro Negro',\n",
       " '16/09/30 08:03:21  12.45N  86.63W    7.2   2.8MW  Cerca del Volcan Cerro Negro',\n",
       " '16/09/30 08:01:59  12.43N  86.65W    2.9   1.5MW  Cerca del Volcan Cerro Negro',\n",
       " '16/09/30 07:19:44  12.44N  86.61W    2.0   1.9MW  Cerca del volcan Momotombo',\n",
       " '16/09/30 03:37:16  12.46N  86.64W    7.6   2.1ML  Cerca del Volcan Cerro Negro',\n",
       " '16/09/30 03:16:34  12.43N  86.62W    6.6   2.1ML  Cerca del volcan Momotombo',\n",
       " '16/09/29 22:11:00  12.47N  86.67W    6.0   1.7ML  Cerca del Volcan Cerro Negro',\n",
       " '16/09/29 21:25:24  12.43N  86.61W    1.7   1.4ML  Cerca del volcan Momotombo',\n",
       " '16/09/29 21:06:00  12.49N  86.63W    1.0   1.4ML  Cerca del Volcan Cerro Negro',\n",
       " '16/09/29 18:36:01  12.44N  86.62W    7.5   2.0MW  Cerca del Volcan Cerro Negro',\n",
       " '16/09/29 18:25:42  12.44N  86.61W    7.5   1.6MW  Cerca del volcan Momotombo',\n",
       " '       ']"
      ]
     },
     "execution_count": 56,
     "metadata": {},
     "output_type": "execute_result"
    }
   ],
   "source": [
    "row"
   ]
  },
  {
   "cell_type": "code",
   "execution_count": 50,
   "metadata": {
    "collapsed": false
   },
   "outputs": [
    {
     "data": {
      "text/plain": [
       "'16/10/09 16:54:53  13.39N  91.80W   15.0   4.0MW  Frente a Guatemala'"
      ]
     },
     "execution_count": 50,
     "metadata": {},
     "output_type": "execute_result"
    }
   ],
   "source": [
    "row[0]"
   ]
  },
  {
   "cell_type": "code",
   "execution_count": 51,
   "metadata": {
    "collapsed": false
   },
   "outputs": [
    {
     "data": {
      "text/plain": [
       "['16', '10', '09 16:54:53  13.39N  91.80W   15.0   4.0MW  Frente a Guatemala']"
      ]
     },
     "execution_count": 51,
     "metadata": {},
     "output_type": "execute_result"
    }
   ],
   "source": [
    "row[0].split('/')"
   ]
  },
  {
   "cell_type": "code",
   "execution_count": 52,
   "metadata": {
    "collapsed": false
   },
   "outputs": [
    {
     "data": {
      "text/plain": [
       "['16', '10', '09']"
      ]
     },
     "execution_count": 52,
     "metadata": {},
     "output_type": "execute_result"
    }
   ],
   "source": [
    "row[0][0:8].split('/')   #http://www.maestrosdelweb.com/guia-python-cadenas-de-texto/"
   ]
  },
  {
   "cell_type": "code",
   "execution_count": 80,
   "metadata": {
    "collapsed": false
   },
   "outputs": [
    {
     "data": {
      "text/plain": [
       "'16:54:53'"
      ]
     },
     "execution_count": 80,
     "metadata": {},
     "output_type": "execute_result"
    }
   ],
   "source": [
    "row[0][9:17]"
   ]
  },
  {
   "cell_type": "code",
   "execution_count": 186,
   "metadata": {
    "collapsed": false
   },
   "outputs": [
    {
     "data": {
      "text/plain": [
       "'16/10/09'"
      ]
     },
     "execution_count": 186,
     "metadata": {},
     "output_type": "execute_result"
    }
   ],
   "source": [
    "row[0][0:8]"
   ]
  },
  {
   "cell_type": "code",
   "execution_count": null,
   "metadata": {
    "collapsed": true
   },
   "outputs": [],
   "source": [
    "for roww in tree.xpath('//pre/text()')[0]:\n",
    "    fecha = roww[0][0:8]\n",
    "    hora = roww[0][9:17]\n",
    "    print 'The capital of %s is %s' % (hora, fecha)"
   ]
  },
  {
   "cell_type": "code",
   "execution_count": 128,
   "metadata": {
    "collapsed": false
   },
   "outputs": [],
   "source": [
    "from lxml import html\n",
    "import requests\n",
    "page = requests.get('http://webserver2.ineter.gob.ni/geofisica/sis/events/sismos.php')\n",
    "tree = html.fromstring(page.text)"
   ]
  },
  {
   "cell_type": "code",
   "execution_count": 214,
   "metadata": {
    "collapsed": false
   },
   "outputs": [
    {
     "name": "stdout",
     "output_type": "stream",
     "text": [
      "Hubo un sismo el día 16/10/09 a las 16:54:53\n",
      "Hubo un sismo el día 16/10/09 a las 10:27:37\n",
      "Hubo un sismo el día 16/10/08 a las 17:20:34\n",
      "Hubo un sismo el día 16/10/08 a las 09:39:18\n",
      "Hubo un sismo el día 16/10/08 a las 05:34:27\n",
      "Hubo un sismo el día 16/10/08 a las 04:44:03\n",
      "Hubo un sismo el día 16/10/07 a las 22:37:17\n",
      "Hubo un sismo el día 16/10/07 a las 15:29:48\n"
     ]
    },
    {
     "ename": "UnicodeDecodeError",
     "evalue": "'ascii' codec can't decode byte 0xc3 in position 18: ordinal not in range(128)",
     "output_type": "error",
     "traceback": [
      "\u001b[1;31m---------------------------------------------------------------------------\u001b[0m",
      "\u001b[1;31mUnicodeDecodeError\u001b[0m                        Traceback (most recent call last)",
      "\u001b[1;32m<ipython-input-214-dcf13a02134e>\u001b[0m in \u001b[0;36m<module>\u001b[1;34m()\u001b[0m\n\u001b[0;32m      1\u001b[0m \u001b[1;32mfor\u001b[0m \u001b[0mroww\u001b[0m \u001b[1;32min\u001b[0m \u001b[0mtree\u001b[0m\u001b[1;33m.\u001b[0m\u001b[0mxpath\u001b[0m\u001b[1;33m(\u001b[0m\u001b[1;34m'//pre/text()'\u001b[0m\u001b[1;33m)\u001b[0m\u001b[1;33m[\u001b[0m\u001b[1;36m0\u001b[0m\u001b[1;33m:\u001b[0m\u001b[1;33m]\u001b[0m\u001b[1;33m:\u001b[0m\u001b[1;33m\u001b[0m\u001b[0m\n\u001b[0;32m      2\u001b[0m \u001b[1;31m#    fecha = roww[0][0:8]\u001b[0m\u001b[1;33m\u001b[0m\u001b[1;33m\u001b[0m\u001b[0m\n\u001b[1;32m----> 3\u001b[1;33m     \u001b[1;32mprint\u001b[0m \u001b[1;34m'Hubo un sismo el día '\u001b[0m \u001b[1;33m+\u001b[0m \u001b[0mroww\u001b[0m\u001b[1;33m[\u001b[0m\u001b[1;36m0\u001b[0m\u001b[1;33m:\u001b[0m\u001b[1;36m8\u001b[0m\u001b[1;33m]\u001b[0m\u001b[1;33m,\u001b[0m \u001b[1;34m'a las '\u001b[0m \u001b[1;33m+\u001b[0m \u001b[0mroww\u001b[0m\u001b[1;33m[\u001b[0m\u001b[1;36m9\u001b[0m\u001b[1;33m:\u001b[0m\u001b[1;36m17\u001b[0m\u001b[1;33m]\u001b[0m\u001b[1;33m\u001b[0m\u001b[0m\n\u001b[0m",
      "\u001b[1;31mUnicodeDecodeError\u001b[0m: 'ascii' codec can't decode byte 0xc3 in position 18: ordinal not in range(128)"
     ]
    }
   ],
   "source": [
    "for roww in tree.xpath('//pre/text()')[0:]:\n",
    "#    fecha = roww[0][0:8]\n",
    "    print 'Hubo un sismo el día ' + roww[0:8], 'a las ' + roww[9:17]"
   ]
  },
  {
   "cell_type": "code",
   "execution_count": 206,
   "metadata": {
    "collapsed": false
   },
   "outputs": [
    {
     "data": {
      "text/plain": [
       "u'16/10/07'"
      ]
     },
     "execution_count": 206,
     "metadata": {},
     "output_type": "execute_result"
    }
   ],
   "source": [
    "roww[0:8]"
   ]
  },
  {
   "cell_type": "code",
   "execution_count": 121,
   "metadata": {
    "collapsed": false
   },
   "outputs": [
    {
     "data": {
      "text/plain": [
       "['16/10/09 16:54:53  13.39N  91.80W   15.0   4.0MW  Frente a Guatemala',\n",
       " '16/10/09 10:27:37  12.42N  86.66W    2.1   1.6MW  Cerca del Volcan Cerro Negro',\n",
       " '16/10/08 17:20:34  11.72N  86.23W  133.1   4.0MW  Carazo',\n",
       " '16/10/08 09:39:18  12.44N  86.62W    0.8   2.3MW  Cerca del Volcan Cerro Negro',\n",
       " '16/10/08 05:34:27  12.99N  85.17W    2.2   4.3MW  Nicaragua',\n",
       " '16/10/08 04:44:03  12.34N  86.45W    2.9   3.4MW  Cerca del volcan Momotombo',\n",
       " '16/10/07 22:37:17  11.47N  85.72W  183.6   2.8ML  Rivas',\n",
       " '16/10/07 15:29:48  12.41N  86.62W    8.3   1.7MW  Cerca del volcan Momotombo',\n",
       " u'16/10/07 13:37:15   8.88N  83.79W   10.5   3.2MW  Oceano Pac\\xedfico de Costa Rica',\n",
       " '16/10/07 10:47:45  12.89N  87.04W   13.9   2.3MW  Nicaragua',\n",
       " '16/10/07 01:56:46   9.72N  84.13W   58.4   2.6MW  Costa Rica',\n",
       " '16/10/06 21:29:11  11.47N  87.61W   10.1   3.8MW  Frente a Poneloya',\n",
       " '16/10/06 21:15:25  11.53N  87.55W   15.0   4.2MW  Frente a Poneloya',\n",
       " '16/10/06 19:54:21  12.44N  86.65W    6.6   2.3MW  Cerca del Volcan Cerro Negro',\n",
       " '16/10/06 18:44:27  12.45N  86.64W    2.1   2.5MW  Cerca del Volcan Cerro Negro',\n",
       " '16/10/06 13:29:00  13.31N  89.19W   14.9   3.7MW  Frente a El Salvador',\n",
       " u'16/10/06 12:39:42  12.34N  88.12W   15.8   3.7MW  Frente al Cosig\\xfcina',\n",
       " '16/10/06 12:07:14  12.90N  87.11W    6.7   2.7MW  Cerca de El Sauce, Nicaragua',\n",
       " '16/10/06 11:05:09  12.44N  86.61W    5.7   2.1MW  Cerca del volcan Momotombo',\n",
       " '16/10/06 07:57:34  12.44N  86.60W    4.7   1.8MW  Cerca del volcan Momotombo',\n",
       " '16/10/06 00:39:52  12.89N  87.23W   15.0   3.1MW  Estero Real',\n",
       " '16/10/05 18:57:33  12.42N  86.63W    8.7   1.4ML  Cerca del volcan Momotombo',\n",
       " u'16/10/05 10:51:40   8.98N  84.04W   15.3   3.1ML  Oceano Pac\\xedfico de Costa Rica',\n",
       " '16/10/05 01:54:49  11.32N  85.70W  171.5   3.6ML  Rivas',\n",
       " u'16/10/05 01:25:07  12.61N  87.72W   62.2   4.8ML  Frente al Cosig\\xfcina',\n",
       " '16/10/04 23:19:29  11.38N  86.94W   14.6   3.4ML  Frente a Masachapa',\n",
       " '16/10/04 22:16:00  12.28N  87.53W   44.3   3.5ML  Frente a Corinto',\n",
       " '16/10/04 21:14:33  12.46N  86.64W    7.6   2.6ML  Cerca del Volcan Cerro Negro',\n",
       " '16/10/04 13:46:39  12.47N  86.65W    5.9   1.9MW  Cerca del Volcan Cerro Negro',\n",
       " u'16/10/04 12:33:58   9.20N  84.16W   15.0   2.4MW  Oceano Pac\\xedfico de Costa Rica',\n",
       " '16/10/04 05:14:19  12.48N  86.61W    2.0   1.6MW  Cerca del Volcan Cerro Negro',\n",
       " u'16/10/04 05:08:27   9.37N  84.39W    1.7   3.8MW  Oceano Pac\\xedfico de Costa Rica',\n",
       " '16/10/04 03:30:27  16.45N  85.32W    4.7   3.9MW  Sismo regional o lejano',\n",
       " '16/10/04 03:14:08  12.42N  86.63W    9.0   1.8MW  Cerca del Volcan Cerro Negro',\n",
       " '16/10/03 16:58:31  12.43N  86.61W   10.3   2.3MW  Cerca del volcan Momotombo',\n",
       " '16/10/03 16:19:57  12.46N  86.65W    5.9   1.9MW  Cerca del Volcan Cerro Negro',\n",
       " '16/10/03 15:29:05  12.42N  86.58W    5.8   1.6MW  Cerca del volcan Momotombo',\n",
       " '16/10/03 12:37:08  12.45N  86.61W    6.2   1.2ML  Cerca del Volcan Cerro Negro',\n",
       " '16/10/03 12:33:04  12.44N  86.60W    3.8   1.3ML  Cerca del volcan Momotombo',\n",
       " '16/10/03 09:50:14  12.46N  86.66W    6.4   1.9MW  Cerca del Volcan Cerro Negro',\n",
       " '16/10/03 07:52:58  12.45N  86.61W   10.3   2.0MW  Cerca del Volcan Cerro Negro',\n",
       " '16/10/03 02:59:45  12.42N  86.60W    7.7   1.9ML  Cerca del volcan Momotombo',\n",
       " '16/10/03 02:09:01  12.47N  86.63W    6.3   1.9ML  Cerca del Volcan Cerro Negro',\n",
       " '16/10/03 00:18:34  10.85N  85.04W    0.9   2.8ML  Costa Rica',\n",
       " '16/10/02 23:45:33  12.47N  86.66W    5.2   1.5ML  Cerca del Volcan Cerro Negro',\n",
       " '16/10/02 17:34:59  12.79N  86.98W    0.2   2.5MW  Nicaragua',\n",
       " '16/10/02 15:46:13  12.57N  86.77W    2.8   2.9MW  Cerca del volcan Telica',\n",
       " '16/10/02 15:44:25  12.56N  86.76W    3.2   2.8MW  Cerca del Volcan Cerro Negro',\n",
       " '16/10/02 14:49:46  12.44N  86.64W    4.4   2.7MW  Cerca del Volcan Cerro Negro',\n",
       " '16/10/02 12:44:29  12.41N  86.62W    5.7   1.9MW  Cerca del volcan Momotombo',\n",
       " '16/10/02 12:25:26  12.43N  86.61W    8.5   2.0MW  Cerca del volcan Momotombo',\n",
       " '16/10/02 09:27:32  12.42N  86.62W    8.2   1.9MW  Cerca del volcan Momotombo',\n",
       " '16/10/02 07:38:42  12.42N  86.62W    6.9   1.9MW  Cerca del volcan Momotombo',\n",
       " '16/10/02 07:31:52  11.60N  86.85W   18.4   2.7MW  Frente a Masachapa',\n",
       " '16/10/02 06:35:18  12.43N  86.66W    4.7   1.6MW  Cerca del Volcan Cerro Negro',\n",
       " '16/10/02 06:14:48  12.41N  86.58W    3.3   1.6ML  Cerca del volcan Momotombo',\n",
       " '16/10/02 01:04:06  12.44N  86.60W    2.8   1.6MW  Cerca del volcan Momotombo',\n",
       " '16/10/02 01:03:29  12.43N  86.61W    2.0   1.8MW  Cerca del volcan Momotombo',\n",
       " '16/10/02 00:04:05  12.43N  86.60W    7.7   1.8ML  Cerca del volcan Momotombo',\n",
       " '16/10/01 19:05:46  12.37N  86.53W    3.0   1.3ML  Cerca del volcan Momotombo',\n",
       " '16/10/01 18:32:53  12.45N  86.61W    4.3   2.5MW  Cerca del volcan Momotombo',\n",
       " '16/10/01 18:14:31  12.48N  86.66W    6.2   1.9MW  Cerca del Volcan Cerro Negro',\n",
       " '16/10/01 17:33:53  12.37N  86.53W    3.6   1.4MW  Cerca del volcan Momotombo',\n",
       " '16/10/01 16:33:11   8.38N  83.08W   30.3   3.4MW  Costa Rica',\n",
       " '16/10/01 12:48:57  10.88N  86.69W   15.0   3.5MW  Frente a El Astillero',\n",
       " '16/10/01 12:00:04  12.99N  87.70W  139.1   3.4MW  Golfo de Fonseca',\n",
       " '16/10/01 08:30:38  12.47N  86.68W    6.3   2.0MW  Cerca del Volcan Cerro Negro',\n",
       " '16/10/01 08:28:07  12.47N  86.65W    4.6   2.0MW  Cerca del Volcan Cerro Negro',\n",
       " '16/10/01 06:50:50  13.01N  89.72W    7.1   4.1MW  Frente a El Salvador',\n",
       " '16/10/01 06:24:54  11.55N  86.98W   15.0   4.1MW  Frente a Masachapa',\n",
       " '16/10/01 02:47:51  12.62N  86.72W    4.8   2.5MW  Cerca del Volcan Cerro Negro',\n",
       " '16/10/01 01:16:45  12.41N  86.62W    7.2   2.3MW  Cerca del volcan Momotombo',\n",
       " '16/10/01 00:13:04  13.19N  88.15W   15.0   3.3MW  El Salvador',\n",
       " '16/10/01 00:00:48  12.45N  86.61W    5.2   2.0MW  Cerca del Volcan Cerro Negro',\n",
       " '16/09/30 14:02:47  12.44N  86.60W    2.7   2.5MW  Cerca del volcan Momotombo',\n",
       " '16/09/30 13:18:41  12.48N  86.63W    2.2   1.8ML  Cerca del Volcan Cerro Negro',\n",
       " '16/09/30 08:03:21  12.45N  86.63W    7.2   2.8MW  Cerca del Volcan Cerro Negro',\n",
       " '16/09/30 08:01:59  12.43N  86.65W    2.9   1.5MW  Cerca del Volcan Cerro Negro',\n",
       " '16/09/30 07:19:44  12.44N  86.61W    2.0   1.9MW  Cerca del volcan Momotombo',\n",
       " '16/09/30 03:37:16  12.46N  86.64W    7.6   2.1ML  Cerca del Volcan Cerro Negro',\n",
       " '16/09/30 03:16:34  12.43N  86.62W    6.6   2.1ML  Cerca del volcan Momotombo',\n",
       " '16/09/29 22:11:00  12.47N  86.67W    6.0   1.7ML  Cerca del Volcan Cerro Negro',\n",
       " '16/09/29 21:25:24  12.43N  86.61W    1.7   1.4ML  Cerca del volcan Momotombo',\n",
       " '16/09/29 21:06:00  12.49N  86.63W    1.0   1.4ML  Cerca del Volcan Cerro Negro',\n",
       " '       ']"
      ]
     },
     "execution_count": 121,
     "metadata": {},
     "output_type": "execute_result"
    }
   ],
   "source": [
    "tree.xpath('//pre/text()')[0:]"
   ]
  },
  {
   "cell_type": "code",
   "execution_count": 223,
   "metadata": {
    "collapsed": false
   },
   "outputs": [
    {
     "name": "stdout",
     "output_type": "stream",
     "text": [
      "Hubo un sismo hoy 16/10/09 a las 16:54:53 , con una profundidad de 15.0 km\n"
     ]
    }
   ],
   "source": [
    "print 'Hubo un sismo hoy ' + row[0][0:8], 'a las ' + row[0][9:17], ', con una profundidad de ' + row[0][36:40], 'km'"
   ]
  },
  {
   "cell_type": "code",
   "execution_count": 255,
   "metadata": {
    "collapsed": false
   },
   "outputs": [
    {
     "name": "stdout",
     "output_type": "stream",
     "text": [
      "Un temblor con magnitud Richter de 4.0 grados tuvo lugar el 09 del mes 10 del año 2016 a la 16:54:53 con profundidad de 15.0 km. Con Epicentro: Frente a Guatemala  según el Instituto de Estudios Territoriales de Nicaragua con siglas INETER.\n"
     ]
    }
   ],
   "source": [
    "print 'Un temblor con magnitud Richter de' + row[0][42:46], 'grados tuvo lugar el ' + row[0][6:8], 'del mes ' + row[0][3:5], 'del año 20' + row[0][0:2], 'a la ' + row[0][9:17], 'con profundidad de ' + row[0][36:40], 'km. Con Epicentro: ' + row[0][50:], ' según el Instituto de Estudios Territoriales de Nicaragua con siglas INETER.'\n"
   ]
  },
  {
   "cell_type": "code",
   "execution_count": 252,
   "metadata": {
    "collapsed": false
   },
   "outputs": [
    {
     "data": {
      "text/plain": [
       "'16'"
      ]
     },
     "execution_count": 252,
     "metadata": {},
     "output_type": "execute_result"
    }
   ],
   "source": [
    "row[0][0:2]"
   ]
  },
  {
   "cell_type": "code",
   "execution_count": null,
   "metadata": {
    "collapsed": true
   },
   "outputs": [],
   "source": []
  }
 ],
 "metadata": {
  "kernelspec": {
   "display_name": "Python 2",
   "language": "python",
   "name": "python2"
  },
  "language_info": {
   "codemirror_mode": {
    "name": "ipython",
    "version": 2
   },
   "file_extension": ".py",
   "mimetype": "text/x-python",
   "name": "python",
   "nbconvert_exporter": "python",
   "pygments_lexer": "ipython2",
   "version": "2.7.11"
  }
 },
 "nbformat": 4,
 "nbformat_minor": 0
}
